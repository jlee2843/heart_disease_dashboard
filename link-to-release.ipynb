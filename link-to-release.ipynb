{
 "cells": [
  {
   "cell_type": "markdown",
   "id": "2b8a45e8-fd77-43eb-a871-e3bfc81a501a",
   "metadata": {},
   "source": [
    "- **Release**: https://github.com/jlee2843/heart_disease_dashboard/releases/tag/1.0.1\n",
    "- **Tableau Public**: https://github.com/jlee2843/heart_disease_dashboard/releases/tag/1.0.0\n",
    "- **Youtube Video**: https://www.youtube.com/watch?v=AZq804Km9jk"
   ]
  }
 ],
 "metadata": {
  "kernelspec": {
   "display_name": "Python 3 (ipykernel)",
   "language": "python",
   "name": "python3"
  },
  "language_info": {
   "codemirror_mode": {
    "name": "ipython",
    "version": 3
   },
   "file_extension": ".py",
   "mimetype": "text/x-python",
   "name": "python",
   "nbconvert_exporter": "python",
   "pygments_lexer": "ipython3",
   "version": "3.11.7"
  }
 },
 "nbformat": 4,
 "nbformat_minor": 5
}
